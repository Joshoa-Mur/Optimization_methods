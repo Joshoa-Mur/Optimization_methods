{
  "cells": [
    {
      "cell_type": "markdown",
      "id": "e4fffef6-9935-4252-9d02-2992f9bfc850",
      "metadata": {
        "id": "e4fffef6-9935-4252-9d02-2992f9bfc850"
      },
      "source": [
        "**Задача 1**"
      ]
    },
    {
      "cell_type": "markdown",
      "id": "e1b7155b-933e-48f2-978d-ac9dfd2245dd",
      "metadata": {
        "id": "e1b7155b-933e-48f2-978d-ac9dfd2245dd"
      },
      "source": [
        "Реализовать Adam, AdamW и обучить сверточную нейросеть на MNIST. Сравнить графики обучения для SGD, Adam и AdamW."
      ]
    },
    {
      "cell_type": "markdown",
      "id": "638d0edb-1240-4f50-b10a-f3baea5b65f1",
      "metadata": {
        "id": "638d0edb-1240-4f50-b10a-f3baea5b65f1"
      },
      "source": [
        "**Импорты библиотек и загрузка датасета**"
      ]
    },
    {
      "cell_type": "code",
      "execution_count": 20,
      "id": "3ce95452-4d08-4291-81e6-3b3929b46591",
      "metadata": {
        "id": "3ce95452-4d08-4291-81e6-3b3929b46591"
      },
      "outputs": [],
      "source": [
        "import numpy as np\n",
        "import pandas as pd\n",
        "import torch\n",
        "import torchvision\n",
        "import matplotlib\n",
        "import torch.nn.functional as F"
      ]
    },
    {
      "cell_type": "code",
      "execution_count": 21,
      "id": "2ed57302-3089-40b2-91a6-3fccbc97eb9e",
      "metadata": {
        "id": "2ed57302-3089-40b2-91a6-3fccbc97eb9e"
      },
      "outputs": [],
      "source": [
        "image_transform = torchvision.transforms.ToTensor()\n",
        "train_dataset = torchvision.datasets.MNIST(root = './data' , train = True , transform = image_transform,download = True)\n",
        "test_dataset = torchvision.datasets.MNIST(root = './data' , train = False , transform = image_transform,download = True)"
      ]
    },
    {
      "cell_type": "code",
      "execution_count": 22,
      "id": "e17ea7e2-bce2-43fc-a47b-22f8e7476ba7",
      "metadata": {
        "colab": {
          "base_uri": "https://localhost:8080/"
        },
        "id": "e17ea7e2-bce2-43fc-a47b-22f8e7476ba7",
        "outputId": "90872412-8f5e-48ea-e6c9-b45ddff9d037"
      },
      "outputs": [
        {
          "output_type": "stream",
          "name": "stdout",
          "text": [
            "torch.Size([1, 28, 28])\n"
          ]
        }
      ],
      "source": [
        "image,lable  = train_dataset[0]\n",
        "print(image.shape)"
      ]
    },
    {
      "cell_type": "markdown",
      "id": "2fc36902-19c9-4b51-8961-9cfe67535888",
      "metadata": {
        "id": "2fc36902-19c9-4b51-8961-9cfe67535888"
      },
      "source": [
        "**Тут добавь визуализации**"
      ]
    },
    {
      "cell_type": "markdown",
      "id": "f93b8545-49c6-421a-8dc6-6b1f86c4830a",
      "metadata": {
        "id": "f93b8545-49c6-421a-8dc6-6b1f86c4830a"
      },
      "source": [
        "**Архитектура сверточной сети**"
      ]
    },
    {
      "cell_type": "markdown",
      "id": "c63ed6b7-8320-438e-baf2-0294a2bd65df",
      "metadata": {
        "id": "c63ed6b7-8320-438e-baf2-0294a2bd65df"
      },
      "source": [
        "![image.png](attachment:85dfe687-92d5-468f-ba21-069393fe1561.png)"
      ]
    },
    {
      "cell_type": "code",
      "execution_count": 23,
      "id": "fc3797c3-5133-4026-8ba0-472685142c94",
      "metadata": {
        "id": "fc3797c3-5133-4026-8ba0-472685142c94"
      },
      "outputs": [],
      "source": [
        "import torch.nn as nn"
      ]
    },
    {
      "cell_type": "code",
      "execution_count": 24,
      "id": "90bb8c2f-85a0-4074-a2f4-f31acc3e633f",
      "metadata": {
        "id": "90bb8c2f-85a0-4074-a2f4-f31acc3e633f"
      },
      "outputs": [],
      "source": [
        "class LeNet(nn.Module):\n",
        "    def __init__(self):\n",
        "        super().__init__()\n",
        "        # 1 cверточный слой\n",
        "        self.Conv1 = nn.Conv2d(1,6,5)\n",
        "        # 1 слой пулинга\n",
        "        self.Pool1 = nn.AvgPool2d(2,2)\n",
        "        # 2 сверточный слой\n",
        "        self.Conv2 = nn.Conv2d(6,16,5)\n",
        "        # 2 слой пуллинга\n",
        "        self.Pool2  = nn.AvgPool2d(2,2)\n",
        "\n",
        "        # Полносвязные слои:\n",
        "        #fc1\n",
        "        self.fc1 = nn.Linear(4*4*16,120)\n",
        "        #fc2\n",
        "        self.fc2 = nn.Linear(120,84)\n",
        "        #fc3\n",
        "        self.fc3 = nn.Linear(84,10)\n",
        "\n",
        "    def forward(self,x):\n",
        "        x = F.relu(self.Conv1(x))\n",
        "        x = self.Pool1(x)\n",
        "        x = F.relu(self.Conv2(x))\n",
        "        x = self.Pool2(x)\n",
        "        x = torch.flatten(x,1)\n",
        "        x = F.relu(self.fc1(x))\n",
        "        x = F.relu(self.fc2(x))\n",
        "        x = self.fc3(x)\n",
        "        return x"
      ]
    },
    {
      "cell_type": "code",
      "execution_count": 25,
      "id": "c5e8f6a3-12ea-4c27-9f98-6f747e4b56fb",
      "metadata": {
        "id": "c5e8f6a3-12ea-4c27-9f98-6f747e4b56fb"
      },
      "outputs": [],
      "source": [
        "from torch.utils.data import DataLoader"
      ]
    },
    {
      "cell_type": "code",
      "execution_count": 26,
      "id": "5d5dd14f-6d6d-4dc0-8e26-4933b10c77c4",
      "metadata": {
        "id": "5d5dd14f-6d6d-4dc0-8e26-4933b10c77c4"
      },
      "outputs": [],
      "source": [
        "train_loader = DataLoader(train_dataset, batch_size=64, shuffle=True)\n",
        "test_loader = DataLoader(test_dataset, batch_size=1000, shuffle=False)"
      ]
    },
    {
      "cell_type": "code",
      "execution_count": 27,
      "id": "9150aaaa-5353-4a13-a257-36eac7f37e37",
      "metadata": {
        "id": "9150aaaa-5353-4a13-a257-36eac7f37e37"
      },
      "outputs": [],
      "source": [
        "def train_model(model,train_loader,test_loader,optimizer,num_epochs):\n",
        "    train_loss = []\n",
        "    test_accuracy = []\n",
        "\n",
        "    metric = nn.CrossEntropyLoss()\n",
        "\n",
        "    for epoch in range(num_epochs):\n",
        "        model.train()\n",
        "        total_loss = 0\n",
        "        for batch_ind , (data ,  target) in enumerate(train_loader):\n",
        "            optimizer.zero_grad()\n",
        "\n",
        "            output = model(data)\n",
        "\n",
        "            current_loss = metric(output,target)\n",
        "\n",
        "            current_loss.backward()\n",
        "\n",
        "            optimizer.step()\n",
        "\n",
        "            total_loss += current_loss.item()\n",
        "\n",
        "        model.eval()  # режим оценки\n",
        "        correct = 0\n",
        "        total = 0\n",
        "        with torch.no_grad():\n",
        "            for data, target in test_loader:\n",
        "                output = model(data)\n",
        "                _, predicted = torch.max(output, 1)\n",
        "                total += target.size(0)\n",
        "                correct += (predicted == target).sum().item()\n",
        "\n",
        "\n",
        "        avg_loss = total_loss / len(train_loader)\n",
        "        accuracy = 100 * correct / total\n",
        "\n",
        "        train_loss.append(avg_loss)\n",
        "        test_accuracy.append(accuracy)\n",
        "\n",
        "        print(f'Epoch {epoch+1}: Loss = {avg_loss:.4f}, Accuracy = {accuracy:.2f}%')\n",
        "\n",
        "    return train_loss, test_accuracy"
      ]
    },
    {
      "cell_type": "markdown",
      "id": "8a48bc37-d182-4100-8415-304caf274296",
      "metadata": {
        "id": "8a48bc37-d182-4100-8415-304caf274296"
      },
      "source": [
        "<b> Тестируем модель с SGD <b>"
      ]
    },
    {
      "cell_type": "code",
      "execution_count": 28,
      "id": "78fd7dcf-e6bb-45b7-91e7-9a01662eb6f9",
      "metadata": {
        "colab": {
          "base_uri": "https://localhost:8080/"
        },
        "id": "78fd7dcf-e6bb-45b7-91e7-9a01662eb6f9",
        "outputId": "d53a88c7-78cf-4b83-9fb5-9f40aa3b1374"
      },
      "outputs": [
        {
          "output_type": "stream",
          "name": "stdout",
          "text": [
            "Начинаем обучение с SGD...\n",
            "Epoch 1: Loss = 2.2997, Accuracy = 11.35%\n",
            "Epoch 2: Loss = 1.9536, Accuracy = 76.05%\n",
            "Epoch 3: Loss = 0.5114, Accuracy = 89.16%\n",
            "Epoch 4: Loss = 0.3402, Accuracy = 90.56%\n",
            "Epoch 5: Loss = 0.2706, Accuracy = 92.51%\n",
            "SGD рез:\n",
            "Финальная точность: 92.51%\n"
          ]
        }
      ],
      "source": [
        "model = LeNet()\n",
        "\n",
        "# 2. Создаем оптимизатор SGD\n",
        "optimizer = torch.optim.SGD(model.parameters(), lr=0.01)\n",
        "\n",
        "# 3. Запускаем обучение на 5 эпох\n",
        "print(\"Начинаем обучение с SGD...\")\n",
        "train_losses_sgd, test_accuracies_sgd = train_model(\n",
        "    model, train_loader, test_loader, optimizer, num_epochs=5\n",
        ")\n",
        "\n",
        "# 4. Смотрим на результаты\n",
        "print(\"SGD рез:\")\n",
        "print(f\"Финальная точность: {test_accuracies_sgd[-1]:.2f}%\")"
      ]
    },
    {
      "cell_type": "code",
      "execution_count": 29,
      "id": "5fa0fe1b-acc1-4d91-ae50-aebf4540249e",
      "metadata": {
        "id": "5fa0fe1b-acc1-4d91-ae50-aebf4540249e"
      },
      "outputs": [],
      "source": [
        "import math"
      ]
    },
    {
      "cell_type": "code",
      "execution_count": 30,
      "id": "ee7fedd4-4865-460c-883c-224fec97d800",
      "metadata": {
        "id": "ee7fedd4-4865-460c-883c-224fec97d800"
      },
      "outputs": [],
      "source": [
        "class MyAdam(torch.optim.Optimizer):\n",
        "    def __init__(self, params, lr=1e-3, betas=(0.9, 0.999), eps=1e-8):\n",
        "        # Проверка гиперпараметров\n",
        "        if not 0.0 <= lr:\n",
        "            raise ValueError(f\"Invalid learning rate: {lr}\")\n",
        "        if not 0.0 <= eps:\n",
        "            raise ValueError(f\"Invalid epsilon value: {eps}\")\n",
        "        if not 0.0 <= betas[0] < 1.0:\n",
        "            raise ValueError(f\"Invalid beta parameter at index 0: {betas[0]}\")\n",
        "        if not 0.0 <= betas[1] < 1.0:\n",
        "            raise ValueError(f\"Invalid beta parameter at index 1: {betas[1]}\")\n",
        "\n",
        "        # Словарь с гиперпараметрами по умолчанию\n",
        "        defaults = dict(lr=lr, betas=betas, eps=eps)\n",
        "        super().__init__(params, defaults)\n",
        "\n",
        "    def step(self):\n",
        "        for group in self.param_groups:\n",
        "            for p in group['params']:\n",
        "                if p.grad is None:\n",
        "                    continue\n",
        "\n",
        "                grad = p.grad.data\n",
        "\n",
        "                # Получаем состояния для этого параметра\n",
        "                state = self.state[p]\n",
        "\n",
        "                # Инициализируем состояния если первый раз видим параметр\n",
        "                if len(state) == 0:\n",
        "                    state['step'] = 0\n",
        "                    state['m'] = torch.zeros_like(p.data)  # первый момент\n",
        "                    state['v'] = torch.zeros_like(p.data)  # второй момент\n",
        "\n",
        "                # Извлекаем состояния и гиперпараметры\n",
        "                m, v = state['m'], state['v']\n",
        "                beta1, beta2 = group['betas']\n",
        "                lr = group['lr']\n",
        "                eps = group['eps']\n",
        "                state['step'] += 1\n",
        "\n",
        "                # Обновляем первые и вторые моменты\n",
        "                m.mul_(beta1).add_(grad, alpha=1 - beta1)\n",
        "                v.mul_(beta2).addcmul_(grad, grad, value=1 - beta2)\n",
        "\n",
        "                # Корректировка смещения (bias correction)\n",
        "                bias_correction1 = 1 - beta1 ** state['step']\n",
        "                bias_correction2 = 1 - beta2 ** state['step']\n",
        "\n",
        "                step_size = lr / bias_correction1\n",
        "\n",
        "                # Обновляем параметры\n",
        "                p.data.addcdiv_(m, (v.sqrt() / math.sqrt(bias_correction2)).add_(eps), value=-step_size)"
      ]
    },
    {
      "cell_type": "code",
      "execution_count": 31,
      "id": "88e56997-a0b4-4c71-aac2-1a1a6d44fc59",
      "metadata": {
        "colab": {
          "base_uri": "https://localhost:8080/"
        },
        "id": "88e56997-a0b4-4c71-aac2-1a1a6d44fc59",
        "outputId": "058add4c-9404-47c4-d4ae-1411bcc6a8fc"
      },
      "outputs": [
        {
          "output_type": "stream",
          "name": "stdout",
          "text": [
            "Начинаем обучение с MyAdam...\n",
            "Epoch 1: Loss = 0.3856, Accuracy = 95.60%\n",
            "Epoch 2: Loss = 0.1138, Accuracy = 97.78%\n",
            "Epoch 3: Loss = 0.0757, Accuracy = 98.15%\n",
            "Epoch 4: Loss = 0.0593, Accuracy = 98.55%\n",
            "Epoch 5: Loss = 0.0491, Accuracy = 98.58%\n",
            "MyAdam результаты:\n",
            "Финальная точность: 98.58%\n"
          ]
        }
      ],
      "source": [
        "model_adam = LeNet()\n",
        "optimizer_adam = MyAdam(model_adam.parameters(), lr=0.001)\n",
        "\n",
        "print(\"Начинаем обучение с MyAdam...\")\n",
        "train_losses_adam, test_accuracies_adam = train_model(\n",
        "    model_adam, train_loader, test_loader, optimizer_adam, num_epochs=5\n",
        ")\n",
        "\n",
        "print(\"MyAdam результаты:\")\n",
        "print(f\"Финальная точность: {test_accuracies_adam[-1]:.2f}%\")"
      ]
    },
    {
      "cell_type": "code",
      "execution_count": 32,
      "id": "77a78d50-9a75-417b-952d-c0be0e6dace3",
      "metadata": {
        "colab": {
          "base_uri": "https://localhost:8080/"
        },
        "id": "77a78d50-9a75-417b-952d-c0be0e6dace3",
        "outputId": "fb849750-5268-41b2-a9df-0ddbb1afbff2"
      },
      "outputs": [
        {
          "output_type": "stream",
          "name": "stdout",
          "text": [
            "Начинаем обучение с MyAdamW...\n",
            "Epoch 1: Loss = 0.3651, Accuracy = 96.41%\n",
            "Epoch 2: Loss = 0.1054, Accuracy = 97.55%\n",
            "Epoch 3: Loss = 0.0752, Accuracy = 98.44%\n",
            "Epoch 4: Loss = 0.0604, Accuracy = 98.28%\n",
            "Epoch 5: Loss = 0.0508, Accuracy = 98.62%\n",
            "MyAdamW результаты:\n",
            "Финальная точность: 98.62%\n"
          ]
        }
      ],
      "source": [
        "class MyAdamW(torch.optim.Optimizer):\n",
        "    def __init__(self, params, lr=1e-3, betas=(0.9, 0.999), eps=1e-8, weight_decay=0.01):\n",
        "        if not 0.0 <= lr:\n",
        "            raise ValueError(f\"Invalid learning rate: {lr}\")\n",
        "        if not 0.0 <= eps:\n",
        "            raise ValueError(f\"Invalid epsilon value: {eps}\")\n",
        "        if not 0.0 <= betas[0] < 1.0:\n",
        "            raise ValueError(f\"Invalid beta parameter at index 0: {betas[0]}\")\n",
        "        if not 0.0 <= betas[1] < 1.0:\n",
        "            raise ValueError(f\"Invalid beta parameter at index 1: {betas[1]}\")\n",
        "\n",
        "        defaults = dict(lr=lr, betas=betas, eps=eps, weight_decay=weight_decay)\n",
        "        super().__init__(params, defaults)\n",
        "\n",
        "    def step(self):\n",
        "        for group in self.param_groups:\n",
        "            for p in group['params']:\n",
        "                if p.grad is None:\n",
        "                    continue\n",
        "\n",
        "                grad = p.grad.data\n",
        "\n",
        "                # State initialization\n",
        "                state = self.state[p]\n",
        "                if len(state) == 0:\n",
        "                    state['step'] = 0\n",
        "                    state['m'] = torch.zeros_like(p.data)\n",
        "                    state['v'] = torch.zeros_like(p.data)\n",
        "\n",
        "                m, v = state['m'], state['v']\n",
        "                beta1, beta2 = group['betas']\n",
        "                lr = group['lr']\n",
        "                eps = group['eps']\n",
        "                weight_decay = group['weight_decay']\n",
        "                state['step'] += 1\n",
        "\n",
        "                # === KEY DIFFERENCE: Weight decay BEFORE gradient update ===\n",
        "                if weight_decay != 0:\n",
        "                    p.data.mul_(1 - lr * weight_decay)\n",
        "\n",
        "                # Update moments (same as Adam)\n",
        "                m.mul_(beta1).add_(grad, alpha=1 - beta1)\n",
        "                v.mul_(beta2).addcmul_(grad, grad, value=1 - beta2)\n",
        "\n",
        "                # Bias correction\n",
        "                bias_correction1 = 1 - beta1 ** state['step']\n",
        "                bias_correction2 = 1 - beta2 ** state['step']\n",
        "\n",
        "                step_size = lr / bias_correction1\n",
        "\n",
        "                # Update parameters (same as Adam)\n",
        "                p.data.addcdiv_(m, (v.sqrt() / (bias_correction2 ** 0.5)).add_(eps), value=-step_size)\n",
        "\n",
        "model_adamw = LeNet()\n",
        "optimizer_adamw = MyAdamW(model_adamw.parameters(), lr=0.001, weight_decay=0.01)\n",
        "\n",
        "print(\"Начинаем обучение с MyAdamW...\")\n",
        "train_losses_adamw, test_accuracies_adamw = train_model(\n",
        "    model_adamw, train_loader, test_loader, optimizer_adamw, num_epochs=5\n",
        ")\n",
        "\n",
        "print(\"MyAdamW результаты:\")\n",
        "print(f\"Финальная точность: {test_accuracies_adamw[-1]:.2f}%\")"
      ]
    },
    {
      "cell_type": "code",
      "source": [
        "import matplotlib.pyplot as plt\n",
        "plt.figure(figsize=(12, 4))\n",
        "\n",
        "# График точности\n",
        "plt.subplot(1, 2, 1)\n",
        "plt.plot(range(1, 6), test_accuracies_sgd, label='SGD', marker='o', linewidth=2)\n",
        "plt.plot(range(1, 6), test_accuracies_adam, label='Adam', marker='s', linewidth=2)\n",
        "plt.plot(range(1, 6), test_accuracies_adamw, label='AdamW', marker='^', linewidth=2)\n",
        "plt.xlabel('Epoch')\n",
        "plt.ylabel('Accuracy (%)')\n",
        "plt.title('Test Accuracy')\n",
        "plt.legend()\n",
        "plt.grid(True, alpha=0.3)\n",
        "\n",
        "# График потерь\n",
        "plt.subplot(1, 2, 2)\n",
        "plt.plot(range(1, 6), train_losses_sgd, label='SGD', marker='o', linewidth=2)\n",
        "plt.plot(range(1, 6), train_losses_adam, label='Adam', marker='s', linewidth=2)\n",
        "plt.plot(range(1, 6), train_losses_adamw, label='AdamW', marker='^', linewidth=2)\n",
        "plt.xlabel('Epoch')\n",
        "plt.ylabel('Loss')\n",
        "plt.title('Training Loss')\n",
        "plt.legend()\n",
        "plt.grid(True, alpha=0.3)\n",
        "\n",
        "plt.tight_layout()\n",
        "plt.show()"
      ],
      "metadata": {
        "colab": {
          "base_uri": "https://localhost:8080/",
          "height": 407
        },
        "id": "FRy-0fLQJObu",
        "outputId": "f7610dda-899d-451d-bd05-84e6e37eda1f"
      },
      "id": "FRy-0fLQJObu",
      "execution_count": 33,
      "outputs": [
        {
          "output_type": "display_data",
          "data": {
            "text/plain": [
              "<Figure size 1200x400 with 2 Axes>"
            ],
            "image/png": "[encoded data removed]"
          },
          "metadata": {}
        }
      ]
    },
    {
      "cell_type": "markdown",
      "source": [
        "<b> Задача 2 <b>"
      ],
      "metadata": {
        "id": "gR3Y5eYLOOTv"
      },
      "id": "gR3Y5eYLOOTv"
    },
    {
      "cell_type": "code",
      "source": [
        "import torch.optim as optim\n",
        "from torch.optim.lr_scheduler import LinearLR, CosineAnnealingLR\n",
        "import pandas as pd\n",
        "\n",
        "# Модифицированная функция обучения с шедулером\n",
        "def train_model_with_scheduler(model, train_loader, test_loader, optimizer, scheduler, num_epochs):\n",
        "    criterion = nn.CrossEntropyLoss()\n",
        "    train_losses = []\n",
        "    test_accuracies = []\n",
        "\n",
        "    for epoch in range(num_epochs):\n",
        "        model.train()\n",
        "        total_loss = 0\n",
        "\n",
        "        for batch_idx, (data, target) in enumerate(train_loader):\n",
        "            optimizer.zero_grad()\n",
        "            output = model(data)\n",
        "            loss = criterion(output, target)\n",
        "            loss.backward()\n",
        "            optimizer.step()\n",
        "            total_loss += loss.item()\n",
        "\n",
        "        # Валидация\n",
        "        model.eval()\n",
        "        correct = 0\n",
        "        total = 0\n",
        "        test_loss = 0\n",
        "        with torch.no_grad():\n",
        "            for data, target in test_loader:\n",
        "                output = model(data)\n",
        "                test_loss += criterion(output, target).item()\n",
        "                _, predicted = torch.max(output, 1)\n",
        "                total += target.size(0)\n",
        "                correct += (predicted == target).sum().item()\n",
        "\n",
        "        # Шаг шедулера после эпохи\n",
        "        if scheduler:\n",
        "            scheduler.step()\n",
        "\n",
        "        avg_train_loss = total_loss / len(train_loader)\n",
        "        avg_test_loss = test_loss / len(test_loader)\n",
        "        accuracy = 100 * correct / total\n",
        "\n",
        "        train_losses.append(avg_train_loss)\n",
        "        test_accuracies.append(accuracy)\n",
        "\n",
        "        print(f'Epoch {epoch+1}: Train Loss = {avg_train_loss:.4f}, Test Loss = {avg_test_loss:.4f}, Accuracy = {accuracy:.2f}%')\n",
        "\n",
        "    return train_losses[-1], test_accuracies[-1]  # возвращаем последние значения\n",
        "\n",
        "# Результаты\n",
        "results = []\n",
        "\n",
        "# 1. Без шедулеров (повторяем для consistency)\n",
        "optimizers = [\n",
        "    ('SGD', optim.SGD, {'lr': 0.01}),\n",
        "    ('Adam', optim.Adam, {'lr': 0.001}),\n",
        "    ('AdamW', optim.AdamW, {'lr': 0.001, 'weight_decay': 0.01})\n",
        "]\n",
        "\n",
        "for opt_name, opt_class, opt_params in optimizers:\n",
        "    model = LeNet()\n",
        "    optimizer = opt_class(model.parameters(), **opt_params)\n",
        "\n",
        "    print(f\"\\n=== {opt_name} (no scheduler) ===\")\n",
        "    final_loss, final_acc = train_model_with_scheduler(\n",
        "        model, train_loader, test_loader, optimizer, None, num_epochs=5\n",
        "    )\n",
        "    results.append({\n",
        "        'Method': f'{opt_name} (no scheduler)',\n",
        "        'Test Loss': f'{final_loss:.4f}',\n",
        "        'Test Accuracy': f'{final_acc:.4f}'\n",
        "    })\n",
        "\n",
        "# 2. С LinearLR\n",
        "for opt_name, opt_class, opt_params in optimizers:\n",
        "    model = LeNet()\n",
        "    optimizer = opt_class(model.parameters(), **opt_params)\n",
        "    scheduler = LinearLR(optimizer, start_factor=1.0, end_factor=0.1, total_iters=5)\n",
        "\n",
        "    print(f\"\\n=== {opt_name} + LinearLR ===\")\n",
        "    final_loss, final_acc = train_model_with_scheduler(\n",
        "        model, train_loader, test_loader, optimizer, scheduler, num_epochs=5\n",
        "    )\n",
        "    results.append({\n",
        "        'Method': f'{opt_name} + LinearLR',\n",
        "        'Test Loss': f'{final_loss:.4f}',\n",
        "        'Test Accuracy': f'{final_acc:.4f}'\n",
        "    })\n",
        "\n",
        "# 3. С CosineAnnealingLR\n",
        "for opt_name, opt_class, opt_params in optimizers:\n",
        "    model = LeNet()\n",
        "    optimizer = opt_class(model.parameters(), **opt_params)\n",
        "    scheduler = CosineAnnealingLR(optimizer, T_max=5, eta_min=0)\n",
        "\n",
        "    print(f\"\\n=== {opt_name} + Cosine ===\")\n",
        "    final_loss, final_acc = train_model_with_scheduler(\n",
        "        model, train_loader, test_loader, optimizer, scheduler, num_epochs=5\n",
        "    )\n",
        "    results.append({\n",
        "        'Method': f'{opt_name} + Cosine',\n",
        "        'Test Loss': f'{final_loss:.4f}',\n",
        "        'Test Accuracy': f'{final_acc:.4f}'\n",
        "    })\n",
        "\n",
        "# Создаем таблицу результатов\n",
        "df_results = pd.DataFrame(results)\n",
        "print(\"\\n\" + \"=\"*50)\n",
        "print(\"СРАВНИТЕЛЬНАЯ ТАБЛИЦА РЕЗУЛЬТАТОВ\")\n",
        "print(\"=\"*50)\n",
        "print(df_results.to_string(index=False))"
      ],
      "metadata": {
        "colab": {
          "base_uri": "https://localhost:8080/"
        },
        "id": "IfW29sKmgooZ",
        "outputId": "132d79ef-f746-4b03-c49a-44d5d17493f1"
      },
      "id": "IfW29sKmgooZ",
      "execution_count": null,
      "outputs": [
        {
          "output_type": "stream",
          "name": "stdout",
          "text": [
            "\n",
            "=== SGD (no scheduler) ===\n",
            "Epoch 1: Train Loss = 2.2901, Test Loss = 2.2541, Accuracy = 38.59%\n",
            "Epoch 2: Train Loss = 1.1848, Test Loss = 0.4541, Accuracy = 85.99%\n",
            "Epoch 3: Train Loss = 0.4087, Test Loss = 0.3124, Accuracy = 90.48%\n",
            "Epoch 4: Train Loss = 0.3039, Test Loss = 0.2380, Accuracy = 92.88%\n",
            "Epoch 5: Train Loss = 0.2482, Test Loss = 0.2653, Accuracy = 91.60%\n",
            "\n",
            "=== Adam (no scheduler) ===\n",
            "Epoch 1: Train Loss = 0.3650, Test Loss = 0.1225, Accuracy = 96.03%\n",
            "Epoch 2: Train Loss = 0.1108, Test Loss = 0.0863, Accuracy = 97.22%\n",
            "Epoch 3: Train Loss = 0.0784, Test Loss = 0.0544, Accuracy = 98.28%\n",
            "Epoch 4: Train Loss = 0.0609, Test Loss = 0.0481, Accuracy = 98.40%\n",
            "Epoch 5: Train Loss = 0.0496, Test Loss = 0.0502, Accuracy = 98.43%\n",
            "\n",
            "=== AdamW (no scheduler) ===\n",
            "Epoch 1: Train Loss = 0.3630, Test Loss = 0.1334, Accuracy = 95.58%\n",
            "Epoch 2: Train Loss = 0.1070, Test Loss = 0.0747, Accuracy = 97.63%\n",
            "Epoch 3: Train Loss = 0.0760, Test Loss = 0.0562, Accuracy = 98.16%\n",
            "Epoch 4: Train Loss = 0.0602, Test Loss = 0.0487, Accuracy = 98.45%\n"
          ]
        }
      ]
    },
    {
      "cell_type": "markdown",
      "source": [
        "Выводы по шедулерам : лучший скор показали Adam + LinearLR , AdamW + LinearLR . Для SGD шедуляры не сработали."
      ],
      "metadata": {
        "id": "aIf0u1yHnrwp"
      },
      "id": "aIf0u1yHnrwp"
    }
  ],
  "metadata": {
    "kernelspec": {
      "display_name": "Python [conda env:base] *",
      "language": "python",
      "name": "conda-base-py"
    },
    "language_info": {
      "codemirror_mode": {
        "name": "ipython",
        "version": 3
      },
      "file_extension": ".py",
      "mimetype": "text/x-python",
      "name": "python",
      "nbconvert_exporter": "python",
      "pygments_lexer": "ipython3",
      "version": "3.13.5"
    },
    "colab": {
      "provenance": [],
      "gpuType": "T4"
    },
    "accelerator": "GPU"
  },
  "nbformat": 4,
  "nbformat_minor": 5
}